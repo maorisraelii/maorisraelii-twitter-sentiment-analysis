{
 "cells": [
  {
   "cell_type": "code",
   "execution_count": 73,
   "metadata": {
    "collapsed": true,
    "ExecuteTime": {
     "end_time": "2023-07-20T11:37:50.991973900Z",
     "start_time": "2023-07-20T11:37:50.928694900Z"
    }
   },
   "outputs": [],
   "source": [
    "import pandas as pd\n",
    "import numpy as np\n",
    "import matplotlib.pyplot as plt\n",
    "import tensorflow as tf\n",
    "from time import time\n",
    "from keras.models import Sequential, load_model\n",
    "from keras.layers import Dense, Activation, Dropout, Flatten, LSTM\n",
    "from keras.optimizers import Adam\n",
    "from keras.callbacks import EarlyStopping\n",
    "from sklearn.preprocessing import MinMaxScaler\n",
    "import pandas as pd\n",
    "import numpy as np\n",
    "import matplotlib.pyplot as plt\n",
    "import tensorflow as tf\n",
    "from sklearn.preprocessing import MinMaxScaler\n",
    "from tensorflow.keras.models import Sequential, load_model\n",
    "from tensorflow.keras.layers import LSTM, Dense, Activation, Dropout, Flatten\n",
    "from tensorflow.keras.optimizers import Adam\n",
    "from tensorflow.keras.callbacks import EarlyStopping\n",
    "from sklearn.metrics import r2_score\n",
    "from sklearn.metrics import mean_absolute_error\n",
    "from sklearn.metrics import mean_squared_error\n",
    "from sklearn.metrics import accuracy_score\n",
    "import os\n"
   ]
  },
  {
   "cell_type": "code",
   "execution_count": 74,
   "outputs": [],
   "source": [
    "data_vader = pd.read_csv(\"./sentiment/data_vader.csv\", parse_dates = True, index_col = 'Date')"
   ],
   "metadata": {
    "collapsed": false,
    "ExecuteTime": {
     "end_time": "2023-07-20T11:37:50.991973900Z",
     "start_time": "2023-07-20T11:37:50.936382300Z"
    }
   }
  },
  {
   "cell_type": "code",
   "execution_count": 75,
   "outputs": [
    {
     "data": {
      "text/plain": "                   Open         High          Low        Close    biden  \\\nDate                                                                      \n2017-02-01  2285.590088  2289.139893  2272.439941  2279.550049  0.04150   \n2017-02-02  2276.689941  2283.969971  2271.649902  2280.850098  0.97810   \n2017-02-03  2288.540039  2298.310059  2287.879883  2297.419922  0.08900   \n2017-02-06  2294.280029  2296.179932  2288.570068  2292.560059  0.08900   \n2017-02-07  2295.870117  2299.399902  2290.159912  2293.080078 -0.62490   \n...                 ...          ...          ...          ...      ...   \n2020-12-23  3693.419922  3711.239990  3689.280029  3690.010010  0.12035   \n2020-12-24  3694.030029  3703.820068  3689.320068  3703.060059  0.12035   \n2020-12-28  3723.030029  3740.510010  3723.030029  3735.360107  0.12035   \n2020-12-29  3750.010010  3756.120117  3723.310059  3727.040039  0.12035   \n2020-12-30  3736.189941  3744.629883  3730.209961  3732.040039  0.12035   \n\n                musk     trump     tim    bill    jeff  \nDate                                                    \n2017-02-01  0.401900 -0.528233  0.8316  0.8834  0.4926  \n2017-02-02  0.401900  0.112517  0.8316  0.8834  0.4926  \n2017-02-03  0.000000 -0.169000  0.8316  0.8316  0.0000  \n2017-02-06  0.169778 -0.425867  0.8316  0.8316  0.0000  \n2017-02-07  0.169778  0.134033  0.8316  0.8316  0.0000  \n...              ...       ...     ...     ...     ...  \n2020-12-23 -0.018150 -0.073100  0.0000  0.0000  0.3612  \n2020-12-24  0.198250 -0.170190  0.0000  0.0000  0.3612  \n2020-12-28  0.123214  0.481933  0.0000  0.0000  0.3612  \n2020-12-29  0.162985  0.071855  0.0000  0.0000  0.3612  \n2020-12-30  0.212772  0.123316  0.0000  0.0000  0.3612  \n\n[986 rows x 10 columns]",
      "text/html": "<div>\n<style scoped>\n    .dataframe tbody tr th:only-of-type {\n        vertical-align: middle;\n    }\n\n    .dataframe tbody tr th {\n        vertical-align: top;\n    }\n\n    .dataframe thead th {\n        text-align: right;\n    }\n</style>\n<table border=\"1\" class=\"dataframe\">\n  <thead>\n    <tr style=\"text-align: right;\">\n      <th></th>\n      <th>Open</th>\n      <th>High</th>\n      <th>Low</th>\n      <th>Close</th>\n      <th>biden</th>\n      <th>musk</th>\n      <th>trump</th>\n      <th>tim</th>\n      <th>bill</th>\n      <th>jeff</th>\n    </tr>\n    <tr>\n      <th>Date</th>\n      <th></th>\n      <th></th>\n      <th></th>\n      <th></th>\n      <th></th>\n      <th></th>\n      <th></th>\n      <th></th>\n      <th></th>\n      <th></th>\n    </tr>\n  </thead>\n  <tbody>\n    <tr>\n      <th>2017-02-01</th>\n      <td>2285.590088</td>\n      <td>2289.139893</td>\n      <td>2272.439941</td>\n      <td>2279.550049</td>\n      <td>0.04150</td>\n      <td>0.401900</td>\n      <td>-0.528233</td>\n      <td>0.8316</td>\n      <td>0.8834</td>\n      <td>0.4926</td>\n    </tr>\n    <tr>\n      <th>2017-02-02</th>\n      <td>2276.689941</td>\n      <td>2283.969971</td>\n      <td>2271.649902</td>\n      <td>2280.850098</td>\n      <td>0.97810</td>\n      <td>0.401900</td>\n      <td>0.112517</td>\n      <td>0.8316</td>\n      <td>0.8834</td>\n      <td>0.4926</td>\n    </tr>\n    <tr>\n      <th>2017-02-03</th>\n      <td>2288.540039</td>\n      <td>2298.310059</td>\n      <td>2287.879883</td>\n      <td>2297.419922</td>\n      <td>0.08900</td>\n      <td>0.000000</td>\n      <td>-0.169000</td>\n      <td>0.8316</td>\n      <td>0.8316</td>\n      <td>0.0000</td>\n    </tr>\n    <tr>\n      <th>2017-02-06</th>\n      <td>2294.280029</td>\n      <td>2296.179932</td>\n      <td>2288.570068</td>\n      <td>2292.560059</td>\n      <td>0.08900</td>\n      <td>0.169778</td>\n      <td>-0.425867</td>\n      <td>0.8316</td>\n      <td>0.8316</td>\n      <td>0.0000</td>\n    </tr>\n    <tr>\n      <th>2017-02-07</th>\n      <td>2295.870117</td>\n      <td>2299.399902</td>\n      <td>2290.159912</td>\n      <td>2293.080078</td>\n      <td>-0.62490</td>\n      <td>0.169778</td>\n      <td>0.134033</td>\n      <td>0.8316</td>\n      <td>0.8316</td>\n      <td>0.0000</td>\n    </tr>\n    <tr>\n      <th>...</th>\n      <td>...</td>\n      <td>...</td>\n      <td>...</td>\n      <td>...</td>\n      <td>...</td>\n      <td>...</td>\n      <td>...</td>\n      <td>...</td>\n      <td>...</td>\n      <td>...</td>\n    </tr>\n    <tr>\n      <th>2020-12-23</th>\n      <td>3693.419922</td>\n      <td>3711.239990</td>\n      <td>3689.280029</td>\n      <td>3690.010010</td>\n      <td>0.12035</td>\n      <td>-0.018150</td>\n      <td>-0.073100</td>\n      <td>0.0000</td>\n      <td>0.0000</td>\n      <td>0.3612</td>\n    </tr>\n    <tr>\n      <th>2020-12-24</th>\n      <td>3694.030029</td>\n      <td>3703.820068</td>\n      <td>3689.320068</td>\n      <td>3703.060059</td>\n      <td>0.12035</td>\n      <td>0.198250</td>\n      <td>-0.170190</td>\n      <td>0.0000</td>\n      <td>0.0000</td>\n      <td>0.3612</td>\n    </tr>\n    <tr>\n      <th>2020-12-28</th>\n      <td>3723.030029</td>\n      <td>3740.510010</td>\n      <td>3723.030029</td>\n      <td>3735.360107</td>\n      <td>0.12035</td>\n      <td>0.123214</td>\n      <td>0.481933</td>\n      <td>0.0000</td>\n      <td>0.0000</td>\n      <td>0.3612</td>\n    </tr>\n    <tr>\n      <th>2020-12-29</th>\n      <td>3750.010010</td>\n      <td>3756.120117</td>\n      <td>3723.310059</td>\n      <td>3727.040039</td>\n      <td>0.12035</td>\n      <td>0.162985</td>\n      <td>0.071855</td>\n      <td>0.0000</td>\n      <td>0.0000</td>\n      <td>0.3612</td>\n    </tr>\n    <tr>\n      <th>2020-12-30</th>\n      <td>3736.189941</td>\n      <td>3744.629883</td>\n      <td>3730.209961</td>\n      <td>3732.040039</td>\n      <td>0.12035</td>\n      <td>0.212772</td>\n      <td>0.123316</td>\n      <td>0.0000</td>\n      <td>0.0000</td>\n      <td>0.3612</td>\n    </tr>\n  </tbody>\n</table>\n<p>986 rows × 10 columns</p>\n</div>"
     },
     "execution_count": 75,
     "metadata": {},
     "output_type": "execute_result"
    }
   ],
   "source": [
    "data_vader"
   ],
   "metadata": {
    "collapsed": false,
    "ExecuteTime": {
     "end_time": "2023-07-20T11:37:51.077640900Z",
     "start_time": "2023-07-20T11:37:50.947558100Z"
    }
   }
  },
  {
   "cell_type": "code",
   "execution_count": 76,
   "outputs": [],
   "source": [
    "scalar = MinMaxScaler()"
   ],
   "metadata": {
    "collapsed": false,
    "ExecuteTime": {
     "end_time": "2023-07-20T11:37:51.078644900Z",
     "start_time": "2023-07-20T11:37:50.965776300Z"
    }
   }
  },
  {
   "cell_type": "code",
   "execution_count": 78,
   "outputs": [],
   "source": [
    "data = {}\n",
    "for column_name in data_vader.columns[4:]:\n",
    "    cols_to_keep = ['Open', 'High', 'Low', 'Close']\n",
    "    cols_to_keep.append(column_name)\n",
    "    data.update({column_name : data_vader[cols_to_keep]})"
   ],
   "metadata": {
    "collapsed": false,
    "ExecuteTime": {
     "end_time": "2023-07-20T11:37:51.078644900Z",
     "start_time": "2023-07-20T11:37:50.976265100Z"
    }
   }
  },
  {
   "cell_type": "code",
   "execution_count": 79,
   "outputs": [],
   "source": [
    "scaled = {}\n",
    "for i in data.keys():\n",
    "    scaled.update({ i : scalar.fit_transform(data[i])})"
   ],
   "metadata": {
    "collapsed": false,
    "ExecuteTime": {
     "end_time": "2023-07-20T11:37:51.079645300Z",
     "start_time": "2023-07-20T11:37:50.991973900Z"
    }
   }
  },
  {
   "cell_type": "code",
   "execution_count": 80,
   "outputs": [],
   "source": [
    "def get_train_values(j):\n",
    "    train_ind = int(0.6*len(data[j]))\n",
    "    val_ind = train_ind + int(0.2*len(data[j]))\n",
    "    train = scaled[j][:train_ind]\n",
    "    val = scaled[j][train_ind:val_ind]\n",
    "    test = scaled[j][val_ind:]\n",
    "    xtrain,ytrain,xval,yval,xtest,ytest = train[:,:],train[:,3],val[:,:],val[:,3],test[:,:],test[:,3]\n",
    "    lookback = 1\n",
    "    n_features = 5\n",
    "    train_len = len(xtrain) - lookback\n",
    "    test_len = len(xtest) - lookback\n",
    "    val_len = len(xval) - lookback\n",
    "    x_train = np.zeros((train_len, lookback, n_features))\n",
    "    y_train = np.zeros((train_len))\n",
    "    for i in range(train_len):\n",
    "        ytemp = i+lookback\n",
    "        x_train[i] = xtrain[i:ytemp]\n",
    "        y_train[i] = ytrain[ytemp]\n",
    "    x_val = np.zeros((val_len, lookback, n_features))\n",
    "    y_val = np.zeros((val_len))\n",
    "    for i in range(val_len):\n",
    "        ytemp = i+lookback\n",
    "        x_val[i] = xval[i:ytemp]\n",
    "        y_val[i] = yval[ytemp]\n",
    "    x_test = np.zeros((test_len, lookback, n_features))\n",
    "    y_test = np.zeros((test_len))\n",
    "    for i in range(test_len):\n",
    "        ytemp = i+lookback\n",
    "        x_test[i] = xtest[i:ytemp]\n",
    "        y_test[i] = ytest[ytemp]\n",
    "    return x_train, y_train, x_test, y_test"
   ],
   "metadata": {
    "collapsed": false,
    "ExecuteTime": {
     "end_time": "2023-07-20T11:37:51.079645300Z",
     "start_time": "2023-07-20T11:37:51.007003Z"
    }
   }
  },
  {
   "cell_type": "code",
   "execution_count": 81,
   "outputs": [],
   "source": [
    "def build_and_test_model(name):\n",
    "    print(f\"Model {name}\")\n",
    "    model = Sequential()\n",
    "    model.add(LSTM(120,input_shape = (lookback, n_features), return_sequences=True))\n",
    "    model.add(LSTM(100))\n",
    "    model.add(Dense(1))\n",
    "    model.compile(loss = 'mse', optimizer = 'adam')\n",
    "    earlystop = EarlyStopping(monitor='val_loss', min_delta=0.0001, patience=10,  verbose=1, mode='min', restore_best_weights=True, start_from_epoch=10)\n",
    "    model.summary()\n",
    "    start = time()\n",
    "    print(\"start:\",0)\n",
    "    model.fit(x_train,y_train, epochs = 50, batch_size=8,\n",
    "              validation_data=(x_test,y_test),verbose = 1,\n",
    "              shuffle = False, callbacks=[earlystop])\n",
    "    print(\"end:\",time()-start)\n",
    "    return model"
   ],
   "metadata": {
    "collapsed": false,
    "ExecuteTime": {
     "end_time": "2023-07-20T11:37:51.079645300Z",
     "start_time": "2023-07-20T11:37:51.016005900Z"
    }
   }
  },
  {
   "cell_type": "code",
   "execution_count": 82,
   "outputs": [],
   "source": [
    "def loss_view(model, i):\n",
    "    target_directory = f'./models_with_sentiment/loss'\n",
    "    if not os.path.exists(target_directory):\n",
    "        os.makedirs(target_directory)\n",
    "    loss = model.history.history  # וודא שהמשתנה הזה מכיל את המידע הרצוי\n",
    "    plt.figure(figsize=(10, 6))\n",
    "    plt.plot(loss['loss'], label='Training Loss', linestyle='-', linewidth=2, color='b')\n",
    "    plt.plot(loss['val_loss'], label='Validation Loss', linestyle='--', linewidth=2, color='r')\n",
    "    plt.title('Loss Over Time')\n",
    "    plt.xlabel('Epochs')\n",
    "    plt.ylabel('Loss')\n",
    "    plt.legend()\n",
    "    plt.grid(True)  # הוסף גריד על הגרף\n",
    "    plt.tight_layout()  # משפר את הפריסה של הגרף\n",
    "    plt.savefig(os.path.join(target_directory, f\"Model_{i}.png\"), transparent=True)\n",
    "    plt.show()"
   ],
   "metadata": {
    "collapsed": false,
    "ExecuteTime": {
     "end_time": "2023-07-20T11:37:51.080646100Z",
     "start_time": "2023-07-20T11:37:51.025349100Z"
    }
   }
  },
  {
   "cell_type": "code",
   "execution_count": 83,
   "outputs": [],
   "source": [
    "def prediction(model,i):\n",
    "    target_directory = f'./models_with_sentiment/prediction'\n",
    "    if not os.path.exists(target_directory):\n",
    "        os.makedirs(target_directory)\n",
    "    y_pred = model.predict(x_test)\n",
    "    plt.figure(figsize=(20,10))\n",
    "    plt.plot( y_test, '.-', color='red', label='Real values', alpha=0.5)\n",
    "    plt.plot( y_pred, '.-', color='blue', label='Predicted values', alpha=1)\n",
    "    plt.savefig(os.path.join(target_directory, f\"Model_{i}.png\"), transparent=True)\n",
    "    plt.show()\n",
    "    return y_pred"
   ],
   "metadata": {
    "collapsed": false,
    "ExecuteTime": {
     "end_time": "2023-07-20T11:37:51.080646100Z",
     "start_time": "2023-07-20T11:37:51.032498Z"
    }
   }
  },
  {
   "cell_type": "code",
   "execution_count": 84,
   "outputs": [],
   "source": [
    "def scores(y_pred, i):\n",
    "    r2 = r2_score(y_test, y_pred)\n",
    "    print(f'R2 Score: {r2}')\n",
    "    mae = mean_absolute_error(y_test, y_pred)\n",
    "    print(f'MAE: {mae}')\n",
    "    rmse = np.sqrt(mean_squared_error(y_test, y_pred))\n",
    "    print(f'RMSE: {rmse}')\n",
    "    if os.path.exists(\"results.xlsx\"):\n",
    "        df = pd.read_excel(\"results.xlsx\", engine='openpyxl')\n",
    "        df[f\"model {i} with sentiment\"] = [r2,mae,rmse,lookback]\n",
    "\n",
    "        df.to_excel(\"results.xlsx\", index=False, engine='openpyxl')\n",
    "\n",
    "    else:\n",
    "        # If the file doesn't exist, create a new DataFrame\n",
    "        df = pd.DataFrame({\n",
    "            \"Metrics\": ['R2 Score', 'MAE', 'RMSE', 'lookback'],\n",
    "            f\"model {i} with sentiment\": [r2,mae,rmse,lookback]\n",
    "        })\n",
    "\n",
    "        # Save the DataFrame to a new XLSX file\n",
    "        df.to_excel(\"results.xlsx\", index=False, engine='openpyxl')"
   ],
   "metadata": {
    "collapsed": false,
    "ExecuteTime": {
     "end_time": "2023-07-20T11:37:51.081646100Z",
     "start_time": "2023-07-20T11:37:51.039012800Z"
    }
   }
  },
  {
   "cell_type": "code",
   "execution_count": 85,
   "outputs": [],
   "source": [
    "def save(model, i):\n",
    "    target_directory = f'./models_with_sentiment/models'\n",
    "    if not os.path.exists(target_directory):\n",
    "        os.makedirs(target_directory)\n",
    "    model.save(os.path.join(target_directory, f\"model_{i}.keras\"))"
   ],
   "metadata": {
    "collapsed": false,
    "ExecuteTime": {
     "end_time": "2023-07-20T11:37:51.081646100Z",
     "start_time": "2023-07-20T11:37:51.047119600Z"
    }
   }
  },
  {
   "cell_type": "code",
   "execution_count": null,
   "outputs": [],
   "source": [
    "models_list = {}\n",
    "for i in data.keys():\n",
    "    x_train, y_train, x_test, y_test = get_train_values(i)\n",
    "    models_list[i] = build_and_test_model(i)\n",
    "    y_pred = prediction(models_list[i], i)\n",
    "    models_list[i].evaluate(x_test, y_test)\n",
    "    scores(y_pred, i)\n",
    "    save(models_list[i], i)"
   ],
   "metadata": {
    "collapsed": false
   }
  },
  {
   "cell_type": "code",
   "execution_count": null,
   "outputs": [],
   "source": [],
   "metadata": {
    "collapsed": false
   }
  }
 ],
 "metadata": {
  "kernelspec": {
   "display_name": "Python 3",
   "language": "python",
   "name": "python3"
  },
  "language_info": {
   "codemirror_mode": {
    "name": "ipython",
    "version": 2
   },
   "file_extension": ".py",
   "mimetype": "text/x-python",
   "name": "python",
   "nbconvert_exporter": "python",
   "pygments_lexer": "ipython2",
   "version": "2.7.6"
  }
 },
 "nbformat": 4,
 "nbformat_minor": 0
}
