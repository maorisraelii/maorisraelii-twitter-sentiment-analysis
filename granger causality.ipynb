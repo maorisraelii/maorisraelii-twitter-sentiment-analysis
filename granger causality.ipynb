{
 "cells": [
  {
   "cell_type": "code",
   "execution_count": 91,
   "metadata": {
    "collapsed": true,
    "ExecuteTime": {
     "end_time": "2023-07-20T14:24:48.393128300Z",
     "start_time": "2023-07-20T14:24:48.337843700Z"
    }
   },
   "outputs": [],
   "source": [
    "import pandas as pd\n",
    "from statsmodels.tsa.stattools import grangercausalitytests\n"
   ]
  },
  {
   "cell_type": "code",
   "execution_count": 92,
   "outputs": [],
   "source": [
    "sp500 = pd.read_csv(\"./stocks/sp500.csv\", parse_dates = True, index_col = 'Date')"
   ],
   "metadata": {
    "collapsed": false,
    "ExecuteTime": {
     "end_time": "2023-07-20T14:24:48.394632800Z",
     "start_time": "2023-07-20T14:24:48.343360300Z"
    }
   }
  },
  {
   "cell_type": "code",
   "execution_count": 93,
   "outputs": [
    {
     "data": {
      "text/plain": "                   Open         High          Low        Close\nDate                                                          \n2017-02-01  2285.590088  2289.139893  2272.439941  2279.550049\n2017-02-02  2276.689941  2283.969971  2271.649902  2280.850098\n2017-02-03  2288.540039  2298.310059  2287.879883  2297.419922\n2017-02-06  2294.280029  2296.179932  2288.570068  2292.560059\n2017-02-07  2295.870117  2299.399902  2290.159912  2293.080078\n...                 ...          ...          ...          ...\n2020-12-23  3693.419922  3711.239990  3689.280029  3690.010010\n2020-12-24  3694.030029  3703.820068  3689.320068  3703.060059\n2020-12-28  3723.030029  3740.510010  3723.030029  3735.360107\n2020-12-29  3750.010010  3756.120117  3723.310059  3727.040039\n2020-12-30  3736.189941  3744.629883  3730.209961  3732.040039\n\n[986 rows x 4 columns]",
      "text/html": "<div>\n<style scoped>\n    .dataframe tbody tr th:only-of-type {\n        vertical-align: middle;\n    }\n\n    .dataframe tbody tr th {\n        vertical-align: top;\n    }\n\n    .dataframe thead th {\n        text-align: right;\n    }\n</style>\n<table border=\"1\" class=\"dataframe\">\n  <thead>\n    <tr style=\"text-align: right;\">\n      <th></th>\n      <th>Open</th>\n      <th>High</th>\n      <th>Low</th>\n      <th>Close</th>\n    </tr>\n    <tr>\n      <th>Date</th>\n      <th></th>\n      <th></th>\n      <th></th>\n      <th></th>\n    </tr>\n  </thead>\n  <tbody>\n    <tr>\n      <th>2017-02-01</th>\n      <td>2285.590088</td>\n      <td>2289.139893</td>\n      <td>2272.439941</td>\n      <td>2279.550049</td>\n    </tr>\n    <tr>\n      <th>2017-02-02</th>\n      <td>2276.689941</td>\n      <td>2283.969971</td>\n      <td>2271.649902</td>\n      <td>2280.850098</td>\n    </tr>\n    <tr>\n      <th>2017-02-03</th>\n      <td>2288.540039</td>\n      <td>2298.310059</td>\n      <td>2287.879883</td>\n      <td>2297.419922</td>\n    </tr>\n    <tr>\n      <th>2017-02-06</th>\n      <td>2294.280029</td>\n      <td>2296.179932</td>\n      <td>2288.570068</td>\n      <td>2292.560059</td>\n    </tr>\n    <tr>\n      <th>2017-02-07</th>\n      <td>2295.870117</td>\n      <td>2299.399902</td>\n      <td>2290.159912</td>\n      <td>2293.080078</td>\n    </tr>\n    <tr>\n      <th>...</th>\n      <td>...</td>\n      <td>...</td>\n      <td>...</td>\n      <td>...</td>\n    </tr>\n    <tr>\n      <th>2020-12-23</th>\n      <td>3693.419922</td>\n      <td>3711.239990</td>\n      <td>3689.280029</td>\n      <td>3690.010010</td>\n    </tr>\n    <tr>\n      <th>2020-12-24</th>\n      <td>3694.030029</td>\n      <td>3703.820068</td>\n      <td>3689.320068</td>\n      <td>3703.060059</td>\n    </tr>\n    <tr>\n      <th>2020-12-28</th>\n      <td>3723.030029</td>\n      <td>3740.510010</td>\n      <td>3723.030029</td>\n      <td>3735.360107</td>\n    </tr>\n    <tr>\n      <th>2020-12-29</th>\n      <td>3750.010010</td>\n      <td>3756.120117</td>\n      <td>3723.310059</td>\n      <td>3727.040039</td>\n    </tr>\n    <tr>\n      <th>2020-12-30</th>\n      <td>3736.189941</td>\n      <td>3744.629883</td>\n      <td>3730.209961</td>\n      <td>3732.040039</td>\n    </tr>\n  </tbody>\n</table>\n<p>986 rows × 4 columns</p>\n</div>"
     },
     "execution_count": 93,
     "metadata": {},
     "output_type": "execute_result"
    }
   ],
   "source": [
    "sp500"
   ],
   "metadata": {
    "collapsed": false,
    "ExecuteTime": {
     "end_time": "2023-07-20T14:24:48.430136300Z",
     "start_time": "2023-07-20T14:24:48.353303400Z"
    }
   }
  },
  {
   "cell_type": "code",
   "execution_count": 94,
   "outputs": [],
   "source": [
    "data_vader = pd.read_csv(\"./sentiment/data_vader.csv\", parse_dates = True, index_col = 'Date')"
   ],
   "metadata": {
    "collapsed": false,
    "ExecuteTime": {
     "end_time": "2023-07-20T14:24:48.430136300Z",
     "start_time": "2023-07-20T14:24:48.366132700Z"
    }
   }
  },
  {
   "cell_type": "code",
   "execution_count": 95,
   "outputs": [],
   "source": [
    "data = {}\n",
    "for column_name in data_vader.columns[4:]:\n",
    "    cols_to_keep = ['Close']\n",
    "    cols_to_keep.append(column_name)\n",
    "    data.update({column_name : data_vader[cols_to_keep]})"
   ],
   "metadata": {
    "collapsed": false,
    "ExecuteTime": {
     "end_time": "2023-07-20T14:24:48.430136300Z",
     "start_time": "2023-07-20T14:24:48.378147600Z"
    }
   }
  },
  {
   "cell_type": "code",
   "execution_count": 96,
   "outputs": [
    {
     "data": {
      "text/plain": "{'biden':                   Close    biden\n Date                            \n 2017-02-01  2279.550049  0.04150\n 2017-02-02  2280.850098  0.97810\n 2017-02-03  2297.419922  0.08900\n 2017-02-06  2292.560059  0.08900\n 2017-02-07  2293.080078 -0.62490\n ...                 ...      ...\n 2020-12-23  3690.010010  0.12035\n 2020-12-24  3703.060059  0.12035\n 2020-12-28  3735.360107  0.12035\n 2020-12-29  3727.040039  0.12035\n 2020-12-30  3732.040039  0.12035\n \n [986 rows x 2 columns],\n 'musk':                   Close      musk\n Date                             \n 2017-02-01  2279.550049  0.401900\n 2017-02-02  2280.850098  0.401900\n 2017-02-03  2297.419922  0.000000\n 2017-02-06  2292.560059  0.169778\n 2017-02-07  2293.080078  0.169778\n ...                 ...       ...\n 2020-12-23  3690.010010 -0.018150\n 2020-12-24  3703.060059  0.198250\n 2020-12-28  3735.360107  0.123214\n 2020-12-29  3727.040039  0.162985\n 2020-12-30  3732.040039  0.212772\n \n [986 rows x 2 columns],\n 'trump':                   Close     trump\n Date                             \n 2017-02-01  2279.550049 -0.528233\n 2017-02-02  2280.850098  0.112517\n 2017-02-03  2297.419922 -0.169000\n 2017-02-06  2292.560059 -0.425867\n 2017-02-07  2293.080078  0.134033\n ...                 ...       ...\n 2020-12-23  3690.010010 -0.073100\n 2020-12-24  3703.060059 -0.170190\n 2020-12-28  3735.360107  0.481933\n 2020-12-29  3727.040039  0.071855\n 2020-12-30  3732.040039  0.123316\n \n [986 rows x 2 columns],\n 'tim':                   Close     tim\n Date                           \n 2017-02-01  2279.550049  0.8316\n 2017-02-02  2280.850098  0.8316\n 2017-02-03  2297.419922  0.8316\n 2017-02-06  2292.560059  0.8316\n 2017-02-07  2293.080078  0.8316\n ...                 ...     ...\n 2020-12-23  3690.010010  0.0000\n 2020-12-24  3703.060059  0.0000\n 2020-12-28  3735.360107  0.0000\n 2020-12-29  3727.040039  0.0000\n 2020-12-30  3732.040039  0.0000\n \n [986 rows x 2 columns],\n 'bill':                   Close    bill\n Date                           \n 2017-02-01  2279.550049  0.8834\n 2017-02-02  2280.850098  0.8834\n 2017-02-03  2297.419922  0.8316\n 2017-02-06  2292.560059  0.8316\n 2017-02-07  2293.080078  0.8316\n ...                 ...     ...\n 2020-12-23  3690.010010  0.0000\n 2020-12-24  3703.060059  0.0000\n 2020-12-28  3735.360107  0.0000\n 2020-12-29  3727.040039  0.0000\n 2020-12-30  3732.040039  0.0000\n \n [986 rows x 2 columns],\n 'jeff':                   Close    jeff\n Date                           \n 2017-02-01  2279.550049  0.4926\n 2017-02-02  2280.850098  0.4926\n 2017-02-03  2297.419922  0.0000\n 2017-02-06  2292.560059  0.0000\n 2017-02-07  2293.080078  0.0000\n ...                 ...     ...\n 2020-12-23  3690.010010  0.3612\n 2020-12-24  3703.060059  0.3612\n 2020-12-28  3735.360107  0.3612\n 2020-12-29  3727.040039  0.3612\n 2020-12-30  3732.040039  0.3612\n \n [986 rows x 2 columns]}"
     },
     "execution_count": 96,
     "metadata": {},
     "output_type": "execute_result"
    }
   ],
   "source": [
    "data"
   ],
   "metadata": {
    "collapsed": false,
    "ExecuteTime": {
     "end_time": "2023-07-20T14:24:48.431135900Z",
     "start_time": "2023-07-20T14:24:48.385130300Z"
    }
   }
  },
  {
   "cell_type": "code",
   "execution_count": 97,
   "outputs": [],
   "source": [
    "def print_best_granger_causality(df, name, max_lag):\n",
    "    results = grangercausalitytests(df[[name , 'Close']], maxlag=max_lag, verbose=False)\n",
    "    best_lag = None\n",
    "    best_result = None\n",
    "\n",
    "    for lag, result in results.items():\n",
    "        if best_result is None or result[0]['lrtest'][1] < best_result[0]['lrtest'][1]:\n",
    "            best_lag = lag\n",
    "            best_result = result\n",
    "\n",
    "    print(f\"Best Granger Causality between '{j}' and Close price:\")\n",
    "    lags.update({j : best_lag})\n",
    "    print(f\"Number of lags: {best_lag}\")\n",
    "    print(f\"ssr based F test: F={best_result[0]['params_ftest'][0]}, p={best_result[0]['params_ftest'][1]}\")\n",
    "    print(f\"ssr based chi2 test: chi2={best_result[0]['ssr_chi2test'][0]}, p={best_result[0]['ssr_chi2test'][1]}\")\n",
    "    print(f\"likelihood ratio test: chi2={best_result[0]['lrtest'][0]}, p={best_result[0]['lrtest'][1]}\")\n",
    "    print(f\"parameter F test: F={best_result[0]['params_ftest'][0]}, p={best_result[0]['params_ftest'][1]}\")"
   ],
   "metadata": {
    "collapsed": false,
    "ExecuteTime": {
     "end_time": "2023-07-20T14:24:48.432139300Z",
     "start_time": "2023-07-20T14:24:48.406759200Z"
    }
   }
  },
  {
   "cell_type": "code",
   "execution_count": 98,
   "outputs": [
    {
     "name": "stdout",
     "output_type": "stream",
     "text": [
      "Best Granger Causality between 'biden' and Close price:\n",
      "Number of lags: 1\n",
      "ssr based F test: F=1.6478171394068823, p=0.19955910400315524\n",
      "ssr based chi2 test: chi2=1.6528512039876575, p=0.19857131084209903\n",
      "likelihood ratio test: chi2=1.6514659934296105, p=0.19875951895439056\n",
      "parameter F test: F=1.6478171394068823, p=0.19955910400315524\n",
      "Best Granger Causality between 'musk' and Close price:\n",
      "Number of lags: 2\n",
      "ssr based F test: F=0.6768560326696601, p=0.5084499463153778\n",
      "ssr based chi2 test: chi2=1.3606258143958319, p=0.5064584930611717\n",
      "likelihood ratio test: chi2=1.3596859781246167, p=0.5066965430196093\n",
      "parameter F test: F=0.6768560326696601, p=0.5084499463153778\n",
      "Best Granger Causality between 'trump' and Close price:\n",
      "Number of lags: 1\n",
      "ssr based F test: F=19.996882553655333, p=8.66173803579489e-06\n",
      "ssr based chi2 test: chi2=20.05797282622241, p=7.51296589388249e-06\n",
      "likelihood ratio test: chi2=19.856479130683965, p=8.347930992855778e-06\n",
      "parameter F test: F=19.996882553655333, p=8.66173803579489e-06\n",
      "Best Granger Causality between 'tim' and Close price:\n",
      "Number of lags: 1\n",
      "ssr based F test: F=22.67822532058611, p=2.2034678513948886e-06\n",
      "ssr based chi2 test: chi2=22.74750706800126, p=1.847436435722862e-06\n",
      "likelihood ratio test: chi2=22.488817755843684, p=2.113704797021565e-06\n",
      "parameter F test: F=22.67822532058611, p=2.2034678513948886e-06\n",
      "Best Granger Causality between 'bill' and Close price:\n",
      "Number of lags: 5\n",
      "ssr based F test: F=0.4411283685147131, p=0.8198904283044126\n",
      "ssr based chi2 test: chi2=2.230654275839017, p=0.8163960012770357\n",
      "likelihood ratio test: chi2=2.2281220187185227, p=0.8167636809554155\n",
      "parameter F test: F=0.4411283685147131, p=0.8198904283044126\n",
      "Best Granger Causality between 'jeff' and Close price:\n",
      "Number of lags: 1\n",
      "ssr based F test: F=0.19839024661013532, p=0.6561215127238598\n",
      "ssr based chi2 test: chi2=0.1989963267938203, p=0.6555322046550751\n",
      "likelihood ratio test: chi2=0.19897622821190453, p=0.6555484771669544\n",
      "parameter F test: F=0.19839024661013532, p=0.6561215127238598\n"
     ]
    },
    {
     "name": "stderr",
     "output_type": "stream",
     "text": [
      "C:\\Users\\maori\\PycharmProjects\\pythonProject1\\venv\\Lib\\site-packages\\statsmodels\\tsa\\stattools.py:1488: FutureWarning: verbose is deprecated since functions should not print results\n",
      "  warnings.warn(\n",
      "C:\\Users\\maori\\PycharmProjects\\pythonProject1\\venv\\Lib\\site-packages\\statsmodels\\tsa\\stattools.py:1488: FutureWarning: verbose is deprecated since functions should not print results\n",
      "  warnings.warn(\n",
      "C:\\Users\\maori\\PycharmProjects\\pythonProject1\\venv\\Lib\\site-packages\\statsmodels\\tsa\\stattools.py:1488: FutureWarning: verbose is deprecated since functions should not print results\n",
      "  warnings.warn(\n",
      "C:\\Users\\maori\\PycharmProjects\\pythonProject1\\venv\\Lib\\site-packages\\statsmodels\\tsa\\stattools.py:1488: FutureWarning: verbose is deprecated since functions should not print results\n",
      "  warnings.warn(\n",
      "C:\\Users\\maori\\PycharmProjects\\pythonProject1\\venv\\Lib\\site-packages\\statsmodels\\tsa\\stattools.py:1488: FutureWarning: verbose is deprecated since functions should not print results\n",
      "  warnings.warn(\n",
      "C:\\Users\\maori\\PycharmProjects\\pythonProject1\\venv\\Lib\\site-packages\\statsmodels\\tsa\\stattools.py:1488: FutureWarning: verbose is deprecated since functions should not print results\n",
      "  warnings.warn(\n"
     ]
    }
   ],
   "source": [
    "lags = {}\n",
    "for j in data.keys():\n",
    "    print_best_granger_causality(data[j], j , 5)"
   ],
   "metadata": {
    "collapsed": false,
    "ExecuteTime": {
     "end_time": "2023-07-20T14:24:48.606432200Z",
     "start_time": "2023-07-20T14:24:48.411546900Z"
    }
   }
  }
 ],
 "metadata": {
  "kernelspec": {
   "display_name": "Python 3",
   "language": "python",
   "name": "python3"
  },
  "language_info": {
   "codemirror_mode": {
    "name": "ipython",
    "version": 2
   },
   "file_extension": ".py",
   "mimetype": "text/x-python",
   "name": "python",
   "nbconvert_exporter": "python",
   "pygments_lexer": "ipython2",
   "version": "2.7.6"
  }
 },
 "nbformat": 4,
 "nbformat_minor": 0
}
